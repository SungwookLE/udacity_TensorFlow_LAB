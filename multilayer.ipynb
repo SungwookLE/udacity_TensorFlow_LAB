{
 "metadata": {
  "language_info": {
   "codemirror_mode": {
    "name": "ipython",
    "version": 3
   },
   "file_extension": ".py",
   "mimetype": "text/x-python",
   "name": "python",
   "nbconvert_exporter": "python",
   "pygments_lexer": "ipython3",
   "version": "3.8.5-final"
  },
  "orig_nbformat": 2,
  "kernelspec": {
   "name": "Python 3.8.5 64-bit ('wooks': conda)",
   "display_name": "Python 3.8.5 64-bit ('wooks': conda)",
   "metadata": {
    "interpreter": {
     "hash": "34ccf250dd9f59845cda544a9f3c398fdd108a19df155de3563c7c039e182d07"
    }
   }
  }
 },
 "nbformat": 4,
 "nbformat_minor": 2,
 "cells": [
  {
   "cell_type": "code",
   "execution_count": 2,
   "metadata": {},
   "outputs": [
    {
     "output_type": "stream",
     "name": "stdout",
     "text": [
      "Hidden-layer Output:\n[0.41492192 0.42604313 0.5002434 ]\nOutput-layer Output:\n[0.49815196 0.48539772]\n"
     ]
    }
   ],
   "source": [
    "import numpy as np\n",
    "\n",
    "\n",
    "\n",
    "def sigmoid(x):\n",
    "    \"\"\"\n",
    "    Calculate sigmoid\n",
    "    \"\"\"\n",
    "    return 1/(1+np.exp(-x))\n",
    "\n",
    "# Network size\n",
    "N_input = 4\n",
    "N_hidden = 3\n",
    "N_output = 2\n",
    "\n",
    "np.random.seed(42)\n",
    "# Make some fake data\n",
    "X = np.random.randn(4)\n",
    "\n",
    "weights_input_to_hidden = np.random.normal(0, scale=0.1, size=(N_input, N_hidden))\n",
    "weights_hidden_to_output = np.random.normal(0, scale=0.1, size=(N_hidden, N_output))\n",
    "\n",
    "\n",
    "# TODO: Make a forward pass through the network\n",
    "\"\"\"\n",
    "Calculate the input to the hidden layer.\n",
    "Calculate the hidden layer output.\n",
    "Calculate the input to the output layer.\n",
    "Calculate the output of the network.\n",
    "\"\"\"\n",
    "\n",
    "hidden_layer_in = np.dot(X, weights_input_to_hidden)\n",
    "hidden_layer_out = sigmoid(hidden_layer_in)\n",
    "\n",
    "print('Hidden-layer Output:')\n",
    "print(hidden_layer_out)\n",
    "\n",
    "output_layer_in = np.dot(hidden_layer_out,weights_hidden_to_output)\n",
    "output_layer_out = sigmoid(output_layer_in)\n",
    "\n",
    "print('Output-layer Output:')\n",
    "print(output_layer_out)"
   ]
  },
  {
   "cell_type": "code",
   "execution_count": 105,
   "metadata": {},
   "outputs": [
    {
     "output_type": "stream",
     "name": "stdout",
     "text": [
      "[0.1        0.36666667 0.63333333 0.9       ]\n"
     ]
    }
   ],
   "source": [
    "import numpy as np\n",
    "a= np.array([0, 1, 2, 3])\n",
    "\n",
    "res=   a / (np.max(a)* 5/4 ) +0.1\n",
    "\n",
    "\n",
    "print(res)"
   ]
  },
  {
   "cell_type": "code",
   "execution_count": 111,
   "metadata": {},
   "outputs": [
    {
     "output_type": "execute_result",
     "data": {
      "text/plain": [
       "<tf.Tensor: shape=(100, 100), dtype=float32, numpy=\n",
       "array([[ 0.21698466,  0.03346488,  0.17558704, ..., -1.5355802 ,\n",
       "        -0.14533609, -0.7988997 ],\n",
       "       [-0.02265811, -0.4233101 ,  1.5388341 , ..., -0.2482151 ,\n",
       "         0.48127067, -0.74237263],\n",
       "       [-1.5996301 ,  0.69718677, -0.50641507, ...,  0.6814653 ,\n",
       "        -1.3826973 , -0.64377993],\n",
       "       ...,\n",
       "       [ 1.7745442 ,  1.1449605 ,  0.9549685 , ..., -0.06310686,\n",
       "         0.97111696,  0.5463382 ],\n",
       "       [ 1.867164  ,  0.72270876,  0.68102145, ...,  0.560236  ,\n",
       "         0.8979679 , -1.0052506 ],\n",
       "       [-0.5397844 ,  0.19410127, -0.17456973, ...,  0.06829837,\n",
       "        -0.05674382,  0.31901225]], dtype=float32)>"
      ]
     },
     "metadata": {},
     "execution_count": 111
    }
   ],
   "source": [
    "import tensorflow as tf\n",
    "\n",
    "tf.random.truncated_normal((100,100))"
   ]
  },
  {
   "cell_type": "code",
   "execution_count": 157,
   "metadata": {},
   "outputs": [
    {
     "output_type": "stream",
     "name": "stdout",
     "text": [
      "[[-1.57102917 -0.22578375 -0.05574025 -2.16071089  1.48516325]\n [ 0.47578461 -0.80866266 -0.38448098  0.17148085 -2.34343208]\n [-0.03383211  0.3739352  -1.00865134 -0.11766377  0.13970821]\n [ 2.15529129 -0.03953447  1.161995    0.84883041 -2.06967312]\n [-0.54459344  0.45909176  1.26091374  0.33611088 -2.29250842]\n [-0.1519718   0.43373993 -0.28214543 -0.26407361  0.4653402 ]\n [-0.24505217  0.73148036 -1.12520633 -0.68858622  1.17862667]\n [ 0.81110634 -0.10552199 -0.88314755  2.16844229  0.79538673]\n [-1.12678428  0.64962466  0.44565079  0.49137497  2.69782594]\n [-0.38635297 -1.20223196  1.94193135  1.83729038  0.62072311]]\n"
     ]
    }
   ],
   "source": [
    "\n",
    "#from numpy import ones\n",
    "#import numpy as np\n",
    "\n",
    "# check the difference\n",
    "\n",
    "a=np.random.randn(10,5)\n",
    "b = np.ones(10)\n",
    "\n",
    "print(a)"
   ]
  },
  {
   "cell_type": "code",
   "execution_count": 161,
   "metadata": {},
   "outputs": [
    {
     "output_type": "execute_result",
     "data": {
      "text/plain": [
       "[array([[-0.24505217,  0.73148036, -1.12520633, -0.68858622,  1.17862667],\n",
       "        [ 0.81110634, -0.10552199, -0.88314755,  2.16844229,  0.79538673],\n",
       "        [-0.1519718 ,  0.43373993, -0.28214543, -0.26407361,  0.4653402 ],\n",
       "        [ 0.81110634, -0.10552199, -0.88314755,  2.16844229,  0.79538673],\n",
       "        [ 2.15529129, -0.03953447,  1.161995  ,  0.84883041, -2.06967312]]),\n",
       " array([1., 1., 1., 1., 1.])]"
      ]
     },
     "metadata": {},
     "execution_count": 161
    }
   ],
   "source": [
    "import urllib.request\n",
    "\n",
    "import sklearn \n",
    "#resample(train_features, train_labels, n_samples=docker_size_limit)\n",
    "\n",
    "sklearn.utils.resample ( a,b,  n_samples=5)"
   ]
  },
  {
   "cell_type": "code",
   "execution_count": null,
   "metadata": {},
   "outputs": [],
   "source": []
  },
  {
   "cell_type": "code",
   "execution_count": null,
   "metadata": {},
   "outputs": [],
   "source": []
  },
  {
   "cell_type": "code",
   "execution_count": null,
   "metadata": {},
   "outputs": [],
   "source": []
  }
 ]
}